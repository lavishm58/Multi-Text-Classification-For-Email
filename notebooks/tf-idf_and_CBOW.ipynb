{
 "cells": [
  {
   "cell_type": "code",
   "execution_count": 2,
   "id": "7202fb08-9534-4769-aebd-407082588509",
   "metadata": {
    "tags": []
   },
   "outputs": [],
   "source": [
    "import os \n",
    "os.environ[\"PROTOCOL_BUFFERS_PYTHON_IMPLEMENTATION\"] = \"python\"\n",
    "\n",
    "import pandas as pd\n",
    "from sklearn.model_selection import train_test_split\n",
    "from transformers import BertTokenizer, BertModel, BertPreTrainedModel, Trainer, TrainingArguments\n",
    "from transformers.modeling_outputs import SequenceClassifierOutput\n",
    "from datasets import Dataset, ClassLabel\n",
    "import torch\n",
    "import torch.nn as nn\n",
    "from sklearn.model_selection import KFold\n",
    "from sklearn.preprocessing import LabelEncoder\n",
    "from sklearn.feature_extraction.text import TfidfVectorizer\n",
    "from torch.utils.data import Dataset, DataLoader\n",
    "from sklearn.metrics import precision_score, recall_score, f1_score\n"
   ]
  },
  {
   "cell_type": "code",
   "execution_count": 3,
   "id": "5966ed30-cb0b-47fc-9cf7-53bfd6b3a6f8",
   "metadata": {
    "tags": []
   },
   "outputs": [
    {
     "data": {
      "text/html": [
       "<div>\n",
       "<style scoped>\n",
       "    .dataframe tbody tr th:only-of-type {\n",
       "        vertical-align: middle;\n",
       "    }\n",
       "\n",
       "    .dataframe tbody tr th {\n",
       "        vertical-align: top;\n",
       "    }\n",
       "\n",
       "    .dataframe thead th {\n",
       "        text-align: right;\n",
       "    }\n",
       "</style>\n",
       "<table border=\"1\" class=\"dataframe\">\n",
       "  <thead>\n",
       "    <tr style=\"text-align: right;\">\n",
       "      <th></th>\n",
       "      <th>Text</th>\n",
       "      <th>Category</th>\n",
       "      <th>EmailType</th>\n",
       "      <th>clean_text</th>\n",
       "      <th>tokens</th>\n",
       "    </tr>\n",
       "  </thead>\n",
       "  <tbody>\n",
       "    <tr>\n",
       "      <th>0</th>\n",
       "      <td>Hi *******, Your payment to Uber India was App...</td>\n",
       "      <td>category_3</td>\n",
       "      <td>email_type_93</td>\n",
       "      <td>hi payment uber india approved paid amount ube...</td>\n",
       "      <td>['hi', 'payment', 'uber', 'india', 'approved',...</td>\n",
       "    </tr>\n",
       "    <tr>\n",
       "      <th>1</th>\n",
       "      <td>Your Zomato Online Ordering receipt Refund Pro...</td>\n",
       "      <td>category_3</td>\n",
       "      <td>email_type_84</td>\n",
       "      <td>zomato online ordering receipt refund processe...</td>\n",
       "      <td>['zomato', 'online', 'ordering', 'receipt', 'r...</td>\n",
       "    </tr>\n",
       "    <tr>\n",
       "      <th>2</th>\n",
       "      <td>Electricity Bill Payment Successful ‚Çπ 979 Fo...</td>\n",
       "      <td>category_3</td>\n",
       "      <td>email_type_3</td>\n",
       "      <td>electricity bill payment successful ‚çπ 979 ce...</td>\n",
       "      <td>['electricity', 'bill', 'payment', 'successful...</td>\n",
       "    </tr>\n",
       "    <tr>\n",
       "      <th>3</th>\n",
       "      <td>Payment requested by FINCFRIENDS PVT. LTD. Rec...</td>\n",
       "      <td>category_3</td>\n",
       "      <td>email_type_92</td>\n",
       "      <td>payment requested fincfriends pvt ltd receipt ...</td>\n",
       "      <td>['payment', 'requested', 'fincfriends', 'pvt',...</td>\n",
       "    </tr>\n",
       "    <tr>\n",
       "      <th>4</th>\n",
       "      <td>Greetings from Swiggy Your order was delivered...</td>\n",
       "      <td>category_3</td>\n",
       "      <td>email_type_86</td>\n",
       "      <td>greeting swiggy order delivered 29 minute rate...</td>\n",
       "      <td>['greeting', 'swiggy', 'order', 'delivered', '...</td>\n",
       "    </tr>\n",
       "  </tbody>\n",
       "</table>\n",
       "</div>"
      ],
      "text/plain": [
       "                                                Text    Category  \\\n",
       "0  Hi *******, Your payment to Uber India was App...  category_3   \n",
       "1  Your Zomato Online Ordering receipt Refund Pro...  category_3   \n",
       "2  Electricity Bill Payment Successful ‚Çπ 979 Fo...  category_3   \n",
       "3  Payment requested by FINCFRIENDS PVT. LTD. Rec...  category_3   \n",
       "4  Greetings from Swiggy Your order was delivered...  category_3   \n",
       "\n",
       "       EmailType                                         clean_text  \\\n",
       "0  email_type_93  hi payment uber india approved paid amount ube...   \n",
       "1  email_type_84  zomato online ordering receipt refund processe...   \n",
       "2   email_type_3  electricity bill payment successful ‚çπ 979 ce...   \n",
       "3  email_type_92  payment requested fincfriends pvt ltd receipt ...   \n",
       "4  email_type_86  greeting swiggy order delivered 29 minute rate...   \n",
       "\n",
       "                                              tokens  \n",
       "0  ['hi', 'payment', 'uber', 'india', 'approved',...  \n",
       "1  ['zomato', 'online', 'ordering', 'receipt', 'r...  \n",
       "2  ['electricity', 'bill', 'payment', 'successful...  \n",
       "3  ['payment', 'requested', 'fincfriends', 'pvt',...  \n",
       "4  ['greeting', 'swiggy', 'order', 'delivered', '...  "
      ]
     },
     "execution_count": 3,
     "metadata": {},
     "output_type": "execute_result"
    }
   ],
   "source": [
    "df = pd.read_csv('Training_data_preprocessed.csv')\n",
    "df.head()"
   ]
  },
  {
   "cell_type": "code",
   "execution_count": 4,
   "id": "4ded0247-ab70-4ed5-9eab-6ab6202cdc43",
   "metadata": {
    "tags": []
   },
   "outputs": [],
   "source": [
    "# Convert categorical labels to numerical labels\n",
    "category_labels = ClassLabel(names=list(df['Category'].unique()))\n",
    "type_labels = ClassLabel(names=list(df['EmailType'].unique()))\n",
    "\n",
    "df['Category'] = df['Category'].map(lambda x: category_labels.str2int(x))\n",
    "df['EmailType'] = df['EmailType'].map(lambda x: type_labels.str2int(x))\n",
    "\n",
    "# Split the data into train and test sets\n",
    "train_df, test_df = train_test_split(df, test_size=0.2, random_state=42)\n"
   ]
  },
  {
   "cell_type": "code",
   "execution_count": 5,
   "id": "922bf8ff",
   "metadata": {},
   "outputs": [],
   "source": [
    "from gensim.models import Word2Vec\n",
    "\n",
    "data = df\n",
    "\n",
    "# Encode labels\n",
    "category_encoder = LabelEncoder()\n",
    "emailtype_encoder = LabelEncoder()\n",
    "\n",
    "data['Category'] = category_encoder.fit_transform(data['Category'])\n",
    "data['EmailType'] = emailtype_encoder.fit_transform(data['EmailType'])\n",
    "\n",
    "# TF-IDF vectorization\n",
    "tfidf = TfidfVectorizer(max_features=1000)  # Adjust max_features as needed\n",
    "X_tfidf = tfidf.fit_transform(data['clean_text']).toarray()\n",
    "y_category = data['Category'].values\n",
    "y_emailtype = data['EmailType'].values\n",
    "\n",
    "# CBOW\n",
    "\n",
    "# cbow_model = Word2Vec(data['clean_text'], vector_size=1000, window=5, min_count=1, workers=4)\n",
    "\n",
    "# # # Create feature vectors for each text sample\n",
    "# X = np.array([np.mean([cbow_model.wv[word] for word in sentence if word in cbow_model.wv] or [np.zeros(cbow_model.vector_size)], axis=0) for sentence in data['clean_text']])\n",
    "\n",
    "# Dataset class\n",
    "class TextDataset(Dataset):\n",
    "    def __init__(self, X, y1, y2):\n",
    "        self.X = X\n",
    "        self.y1 = y1\n",
    "        self.y2 = y2\n",
    "\n",
    "    def __len__(self):\n",
    "        return len(self.X)\n",
    "\n",
    "    def __getitem__(self, idx):\n",
    "        return torch.tensor(self.X[idx], dtype=torch.float32), torch.tensor(self.y1[idx], dtype=torch.long), torch.tensor(self.y2[idx], dtype=torch.long)\n",
    "\n",
    "# Model class\n",
    "class MultiTaskModel(nn.Module):\n",
    "    def __init__(self, input_dim, num_classes_category, num_classes_emailtype):\n",
    "        super(MultiTaskModel, self).__init__()\n",
    "        self.shared_layer = nn.Sequential(\n",
    "            nn.Linear(input_dim, 128),\n",
    "            nn.ReLU(),\n",
    "            nn.Linear(128, 64),\n",
    "            nn.ReLU()\n",
    "        )\n",
    "        self.category_head = nn.Linear(64, num_classes_category)\n",
    "        self.emailtype_head = nn.Linear(64, num_classes_emailtype)\n",
    "\n",
    "    def forward(self, x):\n",
    "        shared_output = self.shared_layer(x)\n",
    "        category_output = self.category_head(shared_output)\n",
    "        emailtype_output = self.emailtype_head(shared_output)\n",
    "        return category_output, emailtype_output\n",
    "\n",
    "def get_optimizer_and_criterion(model):\n",
    "    optimizer = torch.optim.Adam(model.parameters(), lr=0.001)\n",
    "    criterion_category = nn.CrossEntropyLoss()\n",
    "    criterion_emailtype = nn.CrossEntropyLoss()\n",
    "    return optimizer, criterion_category, criterion_emailtype\n",
    "\n",
    "def train_model(model, train_loader, optimizer, criterion_category, criterion_emailtype, device):\n",
    "    model.train()\n",
    "    total_loss = 0\n",
    "    for X_batch, y_batch_category, y_batch_emailtype in train_loader:\n",
    "        X_batch, y_batch_category, y_batch_emailtype = X_batch.to(device), y_batch_category.to(device), y_batch_emailtype.to(device)\n",
    "        \n",
    "        optimizer.zero_grad()\n",
    "        output_category, output_emailtype = model(X_batch)\n",
    "        \n",
    "        loss_category = criterion_category(output_category, y_batch_category)\n",
    "        loss_emailtype = criterion_emailtype(output_emailtype, y_batch_emailtype)\n",
    "        loss = loss_category + loss_emailtype\n",
    "        \n",
    "        loss.backward()\n",
    "        optimizer.step()\n",
    "        \n",
    "        total_loss += loss.item()\n",
    "    return total_loss / len(train_loader)\n",
    "\n",
    "def evaluate_model(model, data_loader, device):\n",
    "    model.eval()\n",
    "    correct_category = 0\n",
    "    total_category = 0\n",
    "    correct_emailtype = 0\n",
    "    total_emailtype = 0\n",
    "    \n",
    "    y_true_category = []\n",
    "    y_pred_category = []\n",
    "    y_true_emailtype = []\n",
    "    y_pred_emailtype = []\n",
    "    \n",
    "    with torch.no_grad():\n",
    "        for X_batch, y_batch_category, y_batch_emailtype in data_loader:\n",
    "            X_batch, y_batch_category, y_batch_emailtype = X_batch.to(device), y_batch_category.to(device), y_batch_emailtype.to(device)\n",
    "            \n",
    "            output_category, output_emailtype = model(X_batch)\n",
    "            \n",
    "            _, predicted_category = torch.max(output_category, 1)\n",
    "            _, predicted_emailtype = torch.max(output_emailtype, 1)\n",
    "            \n",
    "            y_true_category.extend(y_batch_category.cpu().numpy())\n",
    "            y_pred_category.extend(predicted_category.cpu().numpy())\n",
    "            y_true_emailtype.extend(y_batch_emailtype.cpu().numpy())\n",
    "            y_pred_emailtype.extend(predicted_emailtype.cpu().numpy())\n",
    "            \n",
    "            total_category += y_batch_category.size(0)\n",
    "            correct_category += (predicted_category == y_batch_category).sum().item()\n",
    "            \n",
    "            total_emailtype += y_batch_emailtype.size(0)\n",
    "            correct_emailtype += (predicted_emailtype == y_batch_emailtype).sum().item()\n",
    "    \n",
    "    category_accuracy = correct_category / total_category\n",
    "    emailtype_accuracy = correct_emailtype / total_emailtype\n",
    "    \n",
    "    category_precision = precision_score(y_true_category, y_pred_category, average='weighted')\n",
    "    category_recall = recall_score(y_true_category, y_pred_category, average='weighted')\n",
    "    category_f1 = f1_score(y_true_category, y_pred_category, average='weighted')\n",
    "    \n",
    "    emailtype_precision = precision_score(y_true_emailtype, y_pred_emailtype, average='weighted')\n",
    "    emailtype_recall = recall_score(y_true_emailtype, y_pred_emailtype, average='weighted')\n",
    "    emailtype_f1 = f1_score(y_true_emailtype, y_pred_emailtype, average='weighted')\n",
    "    \n",
    "    return {\n",
    "        \"category_accuracy\": category_accuracy,\n",
    "        \"category_precision\": category_precision,\n",
    "        \"category_recall\": category_recall,\n",
    "        \"category_f1\": category_f1,\n",
    "        \"emailtype_accuracy\": emailtype_accuracy,\n",
    "        \"emailtype_precision\": emailtype_precision,\n",
    "        \"emailtype_recall\": emailtype_recall,\n",
    "        \"emailtype_f1\": emailtype_f1\n",
    "    }\n",
    "\n",
    "\n"
   ]
  },
  {
   "cell_type": "code",
   "execution_count": 86,
   "id": "8e53a913",
   "metadata": {},
   "outputs": [],
   "source": [
    "from sklearn.utils.class_weight import compute_class_weight\n",
    "import numpy as np\n",
    "\n",
    "\n",
    "category_class_weights=compute_class_weight(class_weight = 'balanced',classes = np.unique(df['Category']),y = list(df['Category']))\n",
    "category_class_weights=torch.tensor(category_class_weights,dtype=torch.float)\n",
    "\n",
    "emailtype_class_weights=compute_class_weight(class_weight = 'balanced',classes=np.unique(df['EmailType']),y=list(df['EmailType']) )\n",
    "emailtype_class_weights=torch.tensor(emailtype_class_weights,dtype=torch.float)\n"
   ]
  },
  {
   "cell_type": "code",
   "execution_count": 6,
   "id": "4e54f846-e165-4cd9-9ec8-67b726a36db3",
   "metadata": {
    "tags": []
   },
   "outputs": [
    {
     "name": "stdout",
     "output_type": "stream",
     "text": [
      "Fold 1, Epoch [1/10], Loss: 1.6515\n",
      "Fold 1, Epoch [2/10], Loss: 0.5140\n",
      "Fold 1, Epoch [3/10], Loss: 0.3377\n",
      "Fold 1, Epoch [4/10], Loss: 0.2519\n",
      "Fold 1, Epoch [5/10], Loss: 0.2000\n",
      "Fold 1, Epoch [6/10], Loss: 0.1608\n",
      "Fold 1, Epoch [7/10], Loss: 0.1370\n",
      "Fold 1, Epoch [8/10], Loss: 0.1150\n",
      "Fold 1, Epoch [9/10], Loss: 0.1010\n",
      "Fold 1, Epoch [10/10], Loss: 0.0879\n"
     ]
    },
    {
     "name": "stderr",
     "output_type": "stream",
     "text": [
      "/Users/lavishmaheswari/Documents/envs/cie-nlp-service/lib/python3.10/site-packages/sklearn/metrics/_classification.py:1497: UndefinedMetricWarning: Precision is ill-defined and being set to 0.0 in labels with no predicted samples. Use `zero_division` parameter to control this behavior.\n",
      "  _warn_prf(average, modifier, f\"{metric.capitalize()} is\", len(result))\n",
      "/Users/lavishmaheswari/Documents/envs/cie-nlp-service/lib/python3.10/site-packages/sklearn/metrics/_classification.py:1497: UndefinedMetricWarning: Precision is ill-defined and being set to 0.0 in labels with no predicted samples. Use `zero_division` parameter to control this behavior.\n",
      "  _warn_prf(average, modifier, f\"{metric.capitalize()} is\", len(result))\n",
      "/Users/lavishmaheswari/Documents/envs/cie-nlp-service/lib/python3.10/site-packages/sklearn/metrics/_classification.py:1497: UndefinedMetricWarning: Recall is ill-defined and being set to 0.0 in labels with no true samples. Use `zero_division` parameter to control this behavior.\n",
      "  _warn_prf(average, modifier, f\"{metric.capitalize()} is\", len(result))\n",
      "/Users/lavishmaheswari/Documents/envs/cie-nlp-service/lib/python3.10/site-packages/sklearn/metrics/_classification.py:1497: UndefinedMetricWarning: Precision is ill-defined and being set to 0.0 in labels with no predicted samples. Use `zero_division` parameter to control this behavior.\n",
      "  _warn_prf(average, modifier, f\"{metric.capitalize()} is\", len(result))\n",
      "/Users/lavishmaheswari/Documents/envs/cie-nlp-service/lib/python3.10/site-packages/sklearn/metrics/_classification.py:1497: UndefinedMetricWarning: Precision is ill-defined and being set to 0.0 in labels with no predicted samples. Use `zero_division` parameter to control this behavior.\n",
      "  _warn_prf(average, modifier, f\"{metric.capitalize()} is\", len(result))\n"
     ]
    },
    {
     "name": "stdout",
     "output_type": "stream",
     "text": [
      "Fold 1, Category Train Accuracy: 1.00%, Precision: 1.00, Recall: 1.00, F1-Score: 1.00\n",
      "Fold 1, EmailType Train Accuracy: 0.98%, Precision: 0.98, Recall: 0.98, F1-Score: 0.98\n",
      "Fold 1, Category Accuracy: 0.99%, Precision: 0.99, Recall: 0.99, F1-Score: 0.99\n",
      "Fold 1, EmailType Accuracy: 0.95%, Precision: 0.95, Recall: 0.95, F1-Score: 0.95\n",
      "Fold 2, Epoch [1/10], Loss: 1.6088\n",
      "Fold 2, Epoch [2/10], Loss: 0.5175\n",
      "Fold 2, Epoch [3/10], Loss: 0.3359\n",
      "Fold 2, Epoch [4/10], Loss: 0.2499\n",
      "Fold 2, Epoch [5/10], Loss: 0.1959\n",
      "Fold 2, Epoch [6/10], Loss: 0.1604\n",
      "Fold 2, Epoch [7/10], Loss: 0.1343\n",
      "Fold 2, Epoch [8/10], Loss: 0.1118\n",
      "Fold 2, Epoch [9/10], Loss: 0.0967\n",
      "Fold 2, Epoch [10/10], Loss: 0.0853\n"
     ]
    },
    {
     "name": "stderr",
     "output_type": "stream",
     "text": [
      "/Users/lavishmaheswari/Documents/envs/cie-nlp-service/lib/python3.10/site-packages/sklearn/metrics/_classification.py:1497: UndefinedMetricWarning: Precision is ill-defined and being set to 0.0 in labels with no predicted samples. Use `zero_division` parameter to control this behavior.\n",
      "  _warn_prf(average, modifier, f\"{metric.capitalize()} is\", len(result))\n",
      "/Users/lavishmaheswari/Documents/envs/cie-nlp-service/lib/python3.10/site-packages/sklearn/metrics/_classification.py:1497: UndefinedMetricWarning: Precision is ill-defined and being set to 0.0 in labels with no predicted samples. Use `zero_division` parameter to control this behavior.\n",
      "  _warn_prf(average, modifier, f\"{metric.capitalize()} is\", len(result))\n",
      "/Users/lavishmaheswari/Documents/envs/cie-nlp-service/lib/python3.10/site-packages/sklearn/metrics/_classification.py:1497: UndefinedMetricWarning: Recall is ill-defined and being set to 0.0 in labels with no true samples. Use `zero_division` parameter to control this behavior.\n",
      "  _warn_prf(average, modifier, f\"{metric.capitalize()} is\", len(result))\n",
      "/Users/lavishmaheswari/Documents/envs/cie-nlp-service/lib/python3.10/site-packages/sklearn/metrics/_classification.py:1497: UndefinedMetricWarning: Precision is ill-defined and being set to 0.0 in labels with no predicted samples. Use `zero_division` parameter to control this behavior.\n",
      "  _warn_prf(average, modifier, f\"{metric.capitalize()} is\", len(result))\n"
     ]
    },
    {
     "name": "stdout",
     "output_type": "stream",
     "text": [
      "Fold 2, Category Train Accuracy: 1.00%, Precision: 1.00, Recall: 1.00, F1-Score: 1.00\n",
      "Fold 2, EmailType Train Accuracy: 0.98%, Precision: 0.98, Recall: 0.98, F1-Score: 0.98\n",
      "Fold 2, Category Accuracy: 0.99%, Precision: 0.99, Recall: 0.99, F1-Score: 0.99\n",
      "Fold 2, EmailType Accuracy: 0.95%, Precision: 0.95, Recall: 0.95, F1-Score: 0.95\n",
      "Fold 3, Epoch [1/10], Loss: 1.5343\n",
      "Fold 3, Epoch [2/10], Loss: 0.4888\n",
      "Fold 3, Epoch [3/10], Loss: 0.3160\n",
      "Fold 3, Epoch [4/10], Loss: 0.2305\n",
      "Fold 3, Epoch [5/10], Loss: 0.1822\n",
      "Fold 3, Epoch [6/10], Loss: 0.1486\n",
      "Fold 3, Epoch [7/10], Loss: 0.1198\n",
      "Fold 3, Epoch [8/10], Loss: 0.1041\n",
      "Fold 3, Epoch [9/10], Loss: 0.0873\n",
      "Fold 3, Epoch [10/10], Loss: 0.0791\n"
     ]
    },
    {
     "name": "stderr",
     "output_type": "stream",
     "text": [
      "/Users/lavishmaheswari/Documents/envs/cie-nlp-service/lib/python3.10/site-packages/sklearn/metrics/_classification.py:1497: UndefinedMetricWarning: Precision is ill-defined and being set to 0.0 in labels with no predicted samples. Use `zero_division` parameter to control this behavior.\n",
      "  _warn_prf(average, modifier, f\"{metric.capitalize()} is\", len(result))\n",
      "/Users/lavishmaheswari/Documents/envs/cie-nlp-service/lib/python3.10/site-packages/sklearn/metrics/_classification.py:1497: UndefinedMetricWarning: Precision is ill-defined and being set to 0.0 in labels with no predicted samples. Use `zero_division` parameter to control this behavior.\n",
      "  _warn_prf(average, modifier, f\"{metric.capitalize()} is\", len(result))\n",
      "/Users/lavishmaheswari/Documents/envs/cie-nlp-service/lib/python3.10/site-packages/sklearn/metrics/_classification.py:1497: UndefinedMetricWarning: Recall is ill-defined and being set to 0.0 in labels with no true samples. Use `zero_division` parameter to control this behavior.\n",
      "  _warn_prf(average, modifier, f\"{metric.capitalize()} is\", len(result))\n",
      "/Users/lavishmaheswari/Documents/envs/cie-nlp-service/lib/python3.10/site-packages/sklearn/metrics/_classification.py:1497: UndefinedMetricWarning: Precision is ill-defined and being set to 0.0 in labels with no predicted samples. Use `zero_division` parameter to control this behavior.\n",
      "  _warn_prf(average, modifier, f\"{metric.capitalize()} is\", len(result))\n"
     ]
    },
    {
     "name": "stdout",
     "output_type": "stream",
     "text": [
      "Fold 3, Category Train Accuracy: 1.00%, Precision: 1.00, Recall: 1.00, F1-Score: 1.00\n",
      "Fold 3, EmailType Train Accuracy: 0.98%, Precision: 0.98, Recall: 0.98, F1-Score: 0.98\n",
      "Fold 3, Category Accuracy: 0.98%, Precision: 0.98, Recall: 0.98, F1-Score: 0.98\n",
      "Fold 3, EmailType Accuracy: 0.95%, Precision: 0.95, Recall: 0.95, F1-Score: 0.95\n",
      "Fold 4, Epoch [1/10], Loss: 1.6058\n",
      "Fold 4, Epoch [2/10], Loss: 0.5043\n",
      "Fold 4, Epoch [3/10], Loss: 0.3228\n",
      "Fold 4, Epoch [4/10], Loss: 0.2430\n",
      "Fold 4, Epoch [5/10], Loss: 0.1925\n",
      "Fold 4, Epoch [6/10], Loss: 0.1564\n",
      "Fold 4, Epoch [7/10], Loss: 0.1309\n",
      "Fold 4, Epoch [8/10], Loss: 0.1113\n",
      "Fold 4, Epoch [9/10], Loss: 0.0934\n",
      "Fold 4, Epoch [10/10], Loss: 0.0832\n"
     ]
    },
    {
     "name": "stderr",
     "output_type": "stream",
     "text": [
      "/Users/lavishmaheswari/Documents/envs/cie-nlp-service/lib/python3.10/site-packages/sklearn/metrics/_classification.py:1497: UndefinedMetricWarning: Precision is ill-defined and being set to 0.0 in labels with no predicted samples. Use `zero_division` parameter to control this behavior.\n",
      "  _warn_prf(average, modifier, f\"{metric.capitalize()} is\", len(result))\n",
      "/Users/lavishmaheswari/Documents/envs/cie-nlp-service/lib/python3.10/site-packages/sklearn/metrics/_classification.py:1497: UndefinedMetricWarning: Precision is ill-defined and being set to 0.0 in labels with no predicted samples. Use `zero_division` parameter to control this behavior.\n",
      "  _warn_prf(average, modifier, f\"{metric.capitalize()} is\", len(result))\n",
      "/Users/lavishmaheswari/Documents/envs/cie-nlp-service/lib/python3.10/site-packages/sklearn/metrics/_classification.py:1497: UndefinedMetricWarning: Recall is ill-defined and being set to 0.0 in labels with no true samples. Use `zero_division` parameter to control this behavior.\n",
      "  _warn_prf(average, modifier, f\"{metric.capitalize()} is\", len(result))\n",
      "/Users/lavishmaheswari/Documents/envs/cie-nlp-service/lib/python3.10/site-packages/sklearn/metrics/_classification.py:1497: UndefinedMetricWarning: Precision is ill-defined and being set to 0.0 in labels with no predicted samples. Use `zero_division` parameter to control this behavior.\n",
      "  _warn_prf(average, modifier, f\"{metric.capitalize()} is\", len(result))\n"
     ]
    },
    {
     "name": "stdout",
     "output_type": "stream",
     "text": [
      "Fold 4, Category Train Accuracy: 1.00%, Precision: 1.00, Recall: 1.00, F1-Score: 1.00\n",
      "Fold 4, EmailType Train Accuracy: 0.98%, Precision: 0.98, Recall: 0.98, F1-Score: 0.98\n",
      "Fold 4, Category Accuracy: 0.99%, Precision: 0.99, Recall: 0.99, F1-Score: 0.99\n",
      "Fold 4, EmailType Accuracy: 0.96%, Precision: 0.96, Recall: 0.96, F1-Score: 0.96\n",
      "Fold 5, Epoch [1/10], Loss: 1.6038\n",
      "Fold 5, Epoch [2/10], Loss: 0.5028\n",
      "Fold 5, Epoch [3/10], Loss: 0.3226\n",
      "Fold 5, Epoch [4/10], Loss: 0.2392\n",
      "Fold 5, Epoch [5/10], Loss: 0.1890\n",
      "Fold 5, Epoch [6/10], Loss: 0.1552\n",
      "Fold 5, Epoch [7/10], Loss: 0.1291\n",
      "Fold 5, Epoch [8/10], Loss: 0.1098\n",
      "Fold 5, Epoch [9/10], Loss: 0.0937\n",
      "Fold 5, Epoch [10/10], Loss: 0.0817\n"
     ]
    },
    {
     "name": "stderr",
     "output_type": "stream",
     "text": [
      "/Users/lavishmaheswari/Documents/envs/cie-nlp-service/lib/python3.10/site-packages/sklearn/metrics/_classification.py:1497: UndefinedMetricWarning: Precision is ill-defined and being set to 0.0 in labels with no predicted samples. Use `zero_division` parameter to control this behavior.\n",
      "  _warn_prf(average, modifier, f\"{metric.capitalize()} is\", len(result))\n",
      "/Users/lavishmaheswari/Documents/envs/cie-nlp-service/lib/python3.10/site-packages/sklearn/metrics/_classification.py:1497: UndefinedMetricWarning: Precision is ill-defined and being set to 0.0 in labels with no predicted samples. Use `zero_division` parameter to control this behavior.\n",
      "  _warn_prf(average, modifier, f\"{metric.capitalize()} is\", len(result))\n",
      "/Users/lavishmaheswari/Documents/envs/cie-nlp-service/lib/python3.10/site-packages/sklearn/metrics/_classification.py:1497: UndefinedMetricWarning: Recall is ill-defined and being set to 0.0 in labels with no true samples. Use `zero_division` parameter to control this behavior.\n",
      "  _warn_prf(average, modifier, f\"{metric.capitalize()} is\", len(result))\n"
     ]
    },
    {
     "name": "stdout",
     "output_type": "stream",
     "text": [
      "Fold 5, Category Train Accuracy: 1.00%, Precision: 1.00, Recall: 1.00, F1-Score: 1.00\n",
      "Fold 5, EmailType Train Accuracy: 0.98%, Precision: 0.98, Recall: 0.98, F1-Score: 0.98\n",
      "Fold 5, Category Accuracy: 0.99%, Precision: 0.99, Recall: 0.99, F1-Score: 0.99\n",
      "Fold 5, EmailType Accuracy: 0.96%, Precision: 0.96, Recall: 0.96, F1-Score: 0.96\n",
      "Average Category Accuracy: 0.99%\n",
      "Average Category Precision: 0.99\n",
      "Average Category Recall: 0.99\n",
      "Average Category F1-Score: 0.99\n",
      "Average EmailType Accuracy: 0.9552933671262938\n",
      "Average EmailType Precision: 0.9545865336568623\n",
      "Average EmailType Recall: 0.9552933671262938\n",
      "Average EmailType F1-Score: 0.9536854079969185\n"
     ]
    },
    {
     "name": "stderr",
     "output_type": "stream",
     "text": [
      "/Users/lavishmaheswari/Documents/envs/cie-nlp-service/lib/python3.10/site-packages/sklearn/metrics/_classification.py:1497: UndefinedMetricWarning: Precision is ill-defined and being set to 0.0 in labels with no predicted samples. Use `zero_division` parameter to control this behavior.\n",
      "  _warn_prf(average, modifier, f\"{metric.capitalize()} is\", len(result))\n"
     ]
    }
   ],
   "source": [
    "import numpy as np\n",
    "device = torch.device(\"cuda\" if torch.cuda.is_available() else \"cpu\")\n",
    "kf = KFold(n_splits=5, shuffle=True, random_state=42)\n",
    "\n",
    "category_metrics = {\n",
    "    \"accuracy\": [],\n",
    "    \"precision\": [],\n",
    "    \"recall\": [],\n",
    "    \"f1\": []\n",
    "}\n",
    "emailtype_metrics = {\n",
    "    \"accuracy\": [],\n",
    "    \"precision\": [],\n",
    "    \"recall\": [],\n",
    "    \"f1\": []\n",
    "}\n",
    "\n",
    "train_category_metrics = {\n",
    "    \"accuracy\": [],\n",
    "    \"precision\": [],\n",
    "    \"recall\": [],\n",
    "    \"f1\": []\n",
    "}\n",
    "train_emailtype_metrics = {\n",
    "    \"accuracy\": [],\n",
    "    \"precision\": [],\n",
    "    \"recall\": [],\n",
    "    \"f1\": []\n",
    "}\n",
    "\n",
    "def update_metrics(metrics, category_metrics, emailtype_metrics):\n",
    "    category_metrics[\"accuracy\"].append(metrics[\"category_accuracy\"])\n",
    "    category_metrics[\"precision\"].append(metrics[\"category_precision\"])\n",
    "    category_metrics[\"recall\"].append(metrics[\"category_recall\"])\n",
    "    category_metrics[\"f1\"].append(metrics[\"category_f1\"])\n",
    "    \n",
    "    emailtype_metrics[\"accuracy\"].append(metrics[\"emailtype_accuracy\"])\n",
    "    emailtype_metrics[\"precision\"].append(metrics[\"emailtype_precision\"])\n",
    "    emailtype_metrics[\"recall\"].append(metrics[\"emailtype_recall\"])\n",
    "    emailtype_metrics[\"f1\"].append(metrics[\"emailtype_f1\"])\n",
    "    return category_metrics, emailtype_metrics\n",
    "# Uncomment if CBOW\n",
    "# X_tfidf = X\n",
    "for fold, (train_idx, val_idx) in enumerate(kf.split(X_tfidf)):\n",
    "    X_train, X_val = X_tfidf[train_idx], X_tfidf[val_idx]\n",
    "    y_train_category, y_val_category = y_category[train_idx], y_category[val_idx]\n",
    "    y_train_emailtype, y_val_emailtype = y_emailtype[train_idx], y_emailtype[val_idx]\n",
    "    \n",
    "    train_dataset = TextDataset(X_train, y_train_category, y_train_emailtype)\n",
    "    val_dataset = TextDataset(X_val, y_val_category, y_val_emailtype)\n",
    "    \n",
    "    train_loader = DataLoader(train_dataset, batch_size=32, shuffle=True)\n",
    "    val_loader = DataLoader(val_dataset, batch_size=32, shuffle=False)\n",
    "    \n",
    "    model = MultiTaskModel(input_dim=X_tfidf.shape[1], num_classes_category=3, num_classes_emailtype=143).to(device)\n",
    "    optimizer, criterion_category, criterion_emailtype = get_optimizer_and_criterion(model)\n",
    "    \n",
    "    num_epochs = 10\n",
    "    for epoch in range(num_epochs):\n",
    "        train_loss = train_model(model, train_loader, optimizer, criterion_category, criterion_emailtype, device)\n",
    "        print(f\"Fold {fold + 1}, Epoch [{epoch + 1}/{num_epochs}], Loss: {train_loss:.4f}\")\n",
    "    \n",
    "    metrics = evaluate_model(model, val_loader, device)\n",
    "    train_metrics = evaluate_model(model, train_loader, device)\n",
    "    category_metrics, emailtype_metrics = update_metrics(metrics, category_metrics, emailtype_metrics)\n",
    "    train_category_metrics, train_emailtype_metrics = update_metrics(train_metrics, train_category_metrics, train_emailtype_metrics)\n",
    "    print(f\"Fold {fold + 1}, Category Train Accuracy: {train_metrics['category_accuracy']:.2f}%, Precision: {train_metrics['category_precision']:.2f}, Recall: {train_metrics['category_recall']:.2f}, F1-Score: {train_metrics['category_f1']:.2f}\")\n",
    "    print(f\"Fold {fold + 1}, EmailType Train Accuracy: {train_metrics['emailtype_accuracy']:.2f}%, Precision: {train_metrics['emailtype_precision']:.2f}, Recall: {train_metrics['emailtype_recall']:.2f}, F1-Score: {train_metrics['emailtype_f1']:.2f}\")\n",
    "    print(f\"Fold {fold + 1}, Category Accuracy: {metrics['category_accuracy']:.2f}%, Precision: {metrics['category_precision']:.2f}, Recall: {metrics['category_recall']:.2f}, F1-Score: {metrics['category_f1']:.2f}\")\n",
    "    print(f\"Fold {fold + 1}, EmailType Accuracy: {metrics['emailtype_accuracy']:.2f}%, Precision: {metrics['emailtype_precision']:.2f}, Recall: {metrics['emailtype_recall']:.2f}, F1-Score: {metrics['emailtype_f1']:.2f}\")\n",
    "\n",
    "print(f\"Average Category Accuracy: {np.mean(category_metrics['accuracy']):.2f}%\")\n",
    "print(f\"Average Category Precision: {np.mean(category_metrics['precision']):.2f}\")\n",
    "print(f\"Average Category Recall: {np.mean(category_metrics['recall']):.2f}\")\n",
    "print(f\"Average Category F1-Score: {np.mean(category_metrics['f1']):.2f}\")\n",
    "\n",
    "print(f\"Average EmailType Accuracy: {np.mean(emailtype_metrics['accuracy'])}\")\n",
    "print(f\"Average EmailType Precision: {np.mean(emailtype_metrics['precision'])}\")\n",
    "print(f\"Average EmailType Recall: {np.mean(emailtype_metrics['recall'])}\")\n",
    "print(f\"Average EmailType F1-Score: {np.mean(emailtype_metrics['f1'])}\")"
   ]
  },
  {
   "cell_type": "code",
   "execution_count": 18,
   "id": "5dcbac01",
   "metadata": {},
   "outputs": [
    {
     "data": {
      "image/png": "[encoded data removed]",
      "text/plain": [
       "<Figure size 640x480 with 1 Axes>"
      ]
     },
     "metadata": {},
     "output_type": "display_data"
    }
   ],
   "source": [
    "import matplotlib.pyplot as plt\n",
    "\n",
    "fig, ax =plt.subplots(1,1)\n",
    "\n",
    "\n",
    "\n",
    "column_labels=['Accuracy', 'Precision', 'Recall', 'F1-score']\n",
    "\n",
    "\n",
    "total_values = []\n",
    "for metric in [category_metrics, emailtype_metrics, train_category_metrics, train_emailtype_metrics]:\n",
    "    temp = []\n",
    "    for cat, values in metric.items():\n",
    "        temp.append(f\"{np.mean(values):.3f}\")\n",
    "    total_values.append(temp)\n",
    "    \n",
    "#creating a 2-dimensional dataframe out of the given data\n",
    "df=pd.DataFrame(data,columns=column_labels)\n",
    "\n",
    "ax.axis('tight') #turns off the axis lines and labels\n",
    "ax.axis('off') #changes x and y axis limits such that all data is shown\n",
    "\n",
    "#plotting data\n",
    "table = ax.table(cellText=total_values,\n",
    "        colLabels=df.columns,\n",
    "        rowLabels=[\"Eval Category Avg K Fold\", \"Eval EmailType Avg K Fold\",\"Train Category Avg K Fold\", \"Train EmailType Avg K Fold\"],\n",
    "        loc=\"center\")\n",
    "table.set_fontsize(14)\n",
    "table.scale(1,2)\n",
    "plt.title('TF-IDF Performance', fontsize=14, fontweight='bold')\n",
    "plt.show()"
   ]
  },
  {
   "cell_type": "code",
   "execution_count": 17,
   "id": "0a116cfe",
   "metadata": {},
   "outputs": [
    {
     "data": {
      "text/plain": [
       "{'accuracy': [0.9883809815012995,\n",
       "  0.9859348723436784,\n",
       "  0.9831804281345565,\n",
       "  0.9885321100917431,\n",
       "  0.9882262996941896],\n",
       " 'precision': [0.9878885041458209,\n",
       "  0.9856213681811604,\n",
       "  0.982738934368415,\n",
       "  0.9877784227676113,\n",
       "  0.9875663884981821],\n",
       " 'recall': [0.9883809815012995,\n",
       "  0.9859348723436784,\n",
       "  0.9831804281345565,\n",
       "  0.9885321100917431,\n",
       "  0.9882262996941896],\n",
       " 'f1': [0.9881318697390198,\n",
       "  0.9857656908748446,\n",
       "  0.9829231506632395,\n",
       "  0.9881551157954128,\n",
       "  0.9878895948584212]}"
      ]
     },
     "execution_count": 17,
     "metadata": {},
     "output_type": "execute_result"
    }
   ],
   "source": [
    "\n",
    "\n",
    "category_metrics"
   ]
  },
  {
   "cell_type": "code",
   "execution_count": 6,
   "id": "eb714922-080d-4f49-9af6-b325e612d2e7",
   "metadata": {
    "tags": []
   },
   "outputs": [
    {
     "data": {
      "text/html": [
       "<pre style=\"white-space:pre;overflow-x:auto;line-height:normal;font-family:Menlo,'DejaVu Sans Mono',consolas,'Courier New',monospace\"><span style=\"font-weight: bold\">Model: \"functional_1\"</span>\n",
       "</pre>\n"
      ],
      "text/plain": [
       "\u001b[1mModel: \"functional_1\"\u001b[0m\n"
      ]
     },
     "metadata": {},
     "output_type": "display_data"
    },
    {
     "data": {
      "text/html": [
       "<pre style=\"white-space:pre;overflow-x:auto;line-height:normal;font-family:Menlo,'DejaVu Sans Mono',consolas,'Courier New',monospace\">┏━━━━━━━━━━━━━━━━━━━━━┳━━━━━━━━━━━━━━━━━━━┳━━━━━━━━━━━━┳━━━━━━━━━━━━━━━━━━━┓\n",
       "┃<span style=\"font-weight: bold\"> Layer (type)        </span>┃<span style=\"font-weight: bold\"> Output Shape      </span>┃<span style=\"font-weight: bold\">    Param # </span>┃<span style=\"font-weight: bold\"> Connected to      </span>┃\n",
       "┡━━━━━━━━━━━━━━━━━━━━━╇━━━━━━━━━━━━━━━━━━━╇━━━━━━━━━━━━╇━━━━━━━━━━━━━━━━━━━┩\n",
       "│ input_layer         │ (<span style=\"color: #00d7ff; text-decoration-color: #00d7ff\">None</span>, <span style=\"color: #00af00; text-decoration-color: #00af00\">1000</span>)      │          <span style=\"color: #00af00; text-decoration-color: #00af00\">0</span> │ -                 │\n",
       "│ (<span style=\"color: #0087ff; text-decoration-color: #0087ff\">InputLayer</span>)        │                   │            │                   │\n",
       "├─────────────────────┼───────────────────┼────────────┼───────────────────┤\n",
       "│ dense (<span style=\"color: #0087ff; text-decoration-color: #0087ff\">Dense</span>)       │ (<span style=\"color: #00d7ff; text-decoration-color: #00d7ff\">None</span>, <span style=\"color: #00af00; text-decoration-color: #00af00\">128</span>)       │    <span style=\"color: #00af00; text-decoration-color: #00af00\">128,128</span> │ input_layer[<span style=\"color: #00af00; text-decoration-color: #00af00\">0</span>][<span style=\"color: #00af00; text-decoration-color: #00af00\">0</span>] │\n",
       "├─────────────────────┼───────────────────┼────────────┼───────────────────┤\n",
       "│ category_output     │ (<span style=\"color: #00d7ff; text-decoration-color: #00d7ff\">None</span>, <span style=\"color: #00af00; text-decoration-color: #00af00\">1</span>)         │        <span style=\"color: #00af00; text-decoration-color: #00af00\">129</span> │ dense[<span style=\"color: #00af00; text-decoration-color: #00af00\">0</span>][<span style=\"color: #00af00; text-decoration-color: #00af00\">0</span>]       │\n",
       "│ (<span style=\"color: #0087ff; text-decoration-color: #0087ff\">Dense</span>)             │                   │            │                   │\n",
       "├─────────────────────┼───────────────────┼────────────┼───────────────────┤\n",
       "│ emailtype_output    │ (<span style=\"color: #00d7ff; text-decoration-color: #00d7ff\">None</span>, <span style=\"color: #00af00; text-decoration-color: #00af00\">1</span>)         │        <span style=\"color: #00af00; text-decoration-color: #00af00\">129</span> │ dense[<span style=\"color: #00af00; text-decoration-color: #00af00\">0</span>][<span style=\"color: #00af00; text-decoration-color: #00af00\">0</span>]       │\n",
       "│ (<span style=\"color: #0087ff; text-decoration-color: #0087ff\">Dense</span>)             │                   │            │                   │\n",
       "└─────────────────────┴───────────────────┴────────────┴───────────────────┘\n",
       "</pre>\n"
      ],
      "text/plain": [
       "┏━━━━━━━━━━━━━━━━━━━━━┳━━━━━━━━━━━━━━━━━━━┳━━━━━━━━━━━━┳━━━━━━━━━━━━━━━━━━━┓\n",
       "┃\u001b[1m \u001b[0m\u001b[1mLayer (type)       \u001b[0m\u001b[1m \u001b[0m┃\u001b[1m \u001b[0m\u001b[1mOutput Shape     \u001b[0m\u001b[1m \u001b[0m┃\u001b[1m \u001b[0m\u001b[1m   Param #\u001b[0m\u001b[1m \u001b[0m┃\u001b[1m \u001b[0m\u001b[1mConnected to     \u001b[0m\u001b[1m \u001b[0m┃\n",
       "┡━━━━━━━━━━━━━━━━━━━━━╇━━━━━━━━━━━━━━━━━━━╇━━━━━━━━━━━━╇━━━━━━━━━━━━━━━━━━━┩\n",
       "│ input_layer         │ (\u001b[38;5;45mNone\u001b[0m, \u001b[38;5;34m1000\u001b[0m)      │          \u001b[38;5;34m0\u001b[0m │ -                 │\n",
       "│ (\u001b[38;5;33mInputLayer\u001b[0m)        │                   │            │                   │\n",
       "├─────────────────────┼───────────────────┼────────────┼───────────────────┤\n",
       "│ dense (\u001b[38;5;33mDense\u001b[0m)       │ (\u001b[38;5;45mNone\u001b[0m, \u001b[38;5;34m128\u001b[0m)       │    \u001b[38;5;34m128,128\u001b[0m │ input_layer[\u001b[38;5;34m0\u001b[0m][\u001b[38;5;34m0\u001b[0m] │\n",
       "├─────────────────────┼───────────────────┼────────────┼───────────────────┤\n",
       "│ category_output     │ (\u001b[38;5;45mNone\u001b[0m, \u001b[38;5;34m1\u001b[0m)         │        \u001b[38;5;34m129\u001b[0m │ dense[\u001b[38;5;34m0\u001b[0m][\u001b[38;5;34m0\u001b[0m]       │\n",
       "│ (\u001b[38;5;33mDense\u001b[0m)             │                   │            │                   │\n",
       "├─────────────────────┼───────────────────┼────────────┼───────────────────┤\n",
       "│ emailtype_output    │ (\u001b[38;5;45mNone\u001b[0m, \u001b[38;5;34m1\u001b[0m)         │        \u001b[38;5;34m129\u001b[0m │ dense[\u001b[38;5;34m0\u001b[0m][\u001b[38;5;34m0\u001b[0m]       │\n",
       "│ (\u001b[38;5;33mDense\u001b[0m)             │                   │            │                   │\n",
       "└─────────────────────┴───────────────────┴────────────┴───────────────────┘\n"
      ]
     },
     "metadata": {},
     "output_type": "display_data"
    },
    {
     "data": {
      "text/html": [
       "<pre style=\"white-space:pre;overflow-x:auto;line-height:normal;font-family:Menlo,'DejaVu Sans Mono',consolas,'Courier New',monospace\"><span style=\"font-weight: bold\"> Total params: </span><span style=\"color: #00af00; text-decoration-color: #00af00\">128,386</span> (501.51 KB)\n",
       "</pre>\n"
      ],
      "text/plain": [
       "\u001b[1m Total params: \u001b[0m\u001b[38;5;34m128,386\u001b[0m (501.51 KB)\n"
      ]
     },
     "metadata": {},
     "output_type": "display_data"
    },
    {
     "data": {
      "text/html": [
       "<pre style=\"white-space:pre;overflow-x:auto;line-height:normal;font-family:Menlo,'DejaVu Sans Mono',consolas,'Courier New',monospace\"><span style=\"font-weight: bold\"> Trainable params: </span><span style=\"color: #00af00; text-decoration-color: #00af00\">128,386</span> (501.51 KB)\n",
       "</pre>\n"
      ],
      "text/plain": [
       "\u001b[1m Trainable params: \u001b[0m\u001b[38;5;34m128,386\u001b[0m (501.51 KB)\n"
      ]
     },
     "metadata": {},
     "output_type": "display_data"
    },
    {
     "data": {
      "text/html": [
       "<pre style=\"white-space:pre;overflow-x:auto;line-height:normal;font-family:Menlo,'DejaVu Sans Mono',consolas,'Courier New',monospace\"><span style=\"font-weight: bold\"> Non-trainable params: </span><span style=\"color: #00af00; text-decoration-color: #00af00\">0</span> (0.00 B)\n",
       "</pre>\n"
      ],
      "text/plain": [
       "\u001b[1m Non-trainable params: \u001b[0m\u001b[38;5;34m0\u001b[0m (0.00 B)\n"
      ]
     },
     "metadata": {},
     "output_type": "display_data"
    }
   ],
   "source": [
    "import tensorflow as tf\n",
    "from tensorflow.keras.models import Model\n",
    "from tensorflow.keras.layers import Input, Dense\n",
    "from tensorflow.keras.optimizers import Adam\n",
    "\n",
    "# Define the input layer\n",
    "input_layer = Input(shape=(X_train.shape[1],))\n",
    "\n",
    "# Shared layers\n",
    "shared_dense = Dense(128, activation='relu')(input_layer)\n",
    "\n",
    "# Output layers for each task\n",
    "category_output = Dense(1, activation='sigmoid', name='category_output')(shared_dense)\n",
    "emailtype_output = Dense(1, activation='sigmoid', name='emailtype_output')(shared_dense)\n",
    "\n",
    "# Build the model\n",
    "model = Model(inputs=input_layer, outputs=[category_output, emailtype_output])\n",
    "\n",
    "# Compile the model\n",
    "model.compile(optimizer=Adam(learning_rate=0.001),\n",
    "              loss={'category_output': 'categorical_crossentropy', 'emailtype_output': 'categorical_crossentropy'},\n",
    "              metrics={'category_output': 'accuracy', 'emailtype_output': 'accuracy'})\n",
    "\n",
    "model.summary()\n"
   ]
  },
  {
   "cell_type": "code",
   "execution_count": 7,
   "id": "0941891e-a1d4-482f-b6e6-ff4d07b019ef",
   "metadata": {
    "tags": []
   },
   "outputs": [
    {
     "name": "stdout",
     "output_type": "stream",
     "text": [
      "Epoch 1/4\n"
     ]
    },
    {
     "name": "stderr",
     "output_type": "stream",
     "text": [
      "2024-05-18 11:53:55.664835: I tensorflow/compiler/mlir/mlir_graph_optimization_pass.cc:176] None of the MLIR Optimization Passes are enabled (registered 2)\n",
      "2024-05-18 11:53:55.665377: I tensorflow/core/platform/profile_utils/cpu_utils.cc:114] CPU Frequency: 2000204999 Hz\n",
      "2024-05-18 11:53:56.618270: E tensorflow/stream_executor/cuda/cuda_blas.cc:197] failed to set new cublas math mode: CUBLAS_STATUS_INVALID_VALUE\n"
     ]
    },
    {
     "ename": "InternalError",
     "evalue": " Blas xGEMM launch failed : a.shape=[1,8,1000], b.shape=[1,1000,128], m=8, n=128, k=1000\n\t [[node model/dense/MatMul (defined at var/tmp/ipykernel_22287/3358670577.py:6) ]] [Op:__inference_train_function_988]\n\nFunction call stack:\ntrain_function\n",
     "output_type": "error",
     "traceback": [
      "\u001b[0;31m---------------------------------------------------------------------------\u001b[0m",
      "\u001b[0;31mInternalError\u001b[0m                             Traceback (most recent call last)",
      "\u001b[0;32m/var/tmp/ipykernel_22287/3358670577.py\u001b[0m in \u001b[0;36m<module>\u001b[0;34m\u001b[0m\n\u001b[1;32m      4\u001b[0m                     \u001b[0mvalidation_data\u001b[0m\u001b[0;34m=\u001b[0m\u001b[0;34m(\u001b[0m\u001b[0mX_test\u001b[0m\u001b[0;34m,\u001b[0m \u001b[0;34m{\u001b[0m\u001b[0;34m'category_output'\u001b[0m\u001b[0;34m:\u001b[0m \u001b[0my_test_category\u001b[0m\u001b[0;34m,\u001b[0m \u001b[0;34m'emailtype_output'\u001b[0m\u001b[0;34m:\u001b[0m \u001b[0my_test_emailtype\u001b[0m\u001b[0;34m}\u001b[0m\u001b[0;34m)\u001b[0m\u001b[0;34m,\u001b[0m\u001b[0;34m\u001b[0m\u001b[0;34m\u001b[0m\u001b[0m\n\u001b[1;32m      5\u001b[0m                     \u001b[0mepochs\u001b[0m\u001b[0;34m=\u001b[0m\u001b[0;36m4\u001b[0m\u001b[0;34m,\u001b[0m\u001b[0;34m\u001b[0m\u001b[0;34m\u001b[0m\u001b[0m\n\u001b[0;32m----> 6\u001b[0;31m                     batch_size=8)\n\u001b[0m",
      "\u001b[0;32m~/myenv/lib/python3.7/site-packages/tensorflow/python/keras/engine/training.py\u001b[0m in \u001b[0;36mfit\u001b[0;34m(self, x, y, batch_size, epochs, verbose, callbacks, validation_split, validation_data, shuffle, class_weight, sample_weight, initial_epoch, steps_per_epoch, validation_steps, validation_batch_size, validation_freq, max_queue_size, workers, use_multiprocessing)\u001b[0m\n\u001b[1;32m   1181\u001b[0m                 _r=1):\n\u001b[1;32m   1182\u001b[0m               \u001b[0mcallbacks\u001b[0m\u001b[0;34m.\u001b[0m\u001b[0mon_train_batch_begin\u001b[0m\u001b[0;34m(\u001b[0m\u001b[0mstep\u001b[0m\u001b[0;34m)\u001b[0m\u001b[0;34m\u001b[0m\u001b[0;34m\u001b[0m\u001b[0m\n\u001b[0;32m-> 1183\u001b[0;31m               \u001b[0mtmp_logs\u001b[0m \u001b[0;34m=\u001b[0m \u001b[0mself\u001b[0m\u001b[0;34m.\u001b[0m\u001b[0mtrain_function\u001b[0m\u001b[0;34m(\u001b[0m\u001b[0miterator\u001b[0m\u001b[0;34m)\u001b[0m\u001b[0;34m\u001b[0m\u001b[0;34m\u001b[0m\u001b[0m\n\u001b[0m\u001b[1;32m   1184\u001b[0m               \u001b[0;32mif\u001b[0m \u001b[0mdata_handler\u001b[0m\u001b[0;34m.\u001b[0m\u001b[0mshould_sync\u001b[0m\u001b[0;34m:\u001b[0m\u001b[0;34m\u001b[0m\u001b[0;34m\u001b[0m\u001b[0m\n\u001b[1;32m   1185\u001b[0m                 \u001b[0mcontext\u001b[0m\u001b[0;34m.\u001b[0m\u001b[0masync_wait\u001b[0m\u001b[0;34m(\u001b[0m\u001b[0;34m)\u001b[0m\u001b[0;34m\u001b[0m\u001b[0;34m\u001b[0m\u001b[0m\n",
      "\u001b[0;32m~/myenv/lib/python3.7/site-packages/tensorflow/python/eager/def_function.py\u001b[0m in \u001b[0;36m__call__\u001b[0;34m(self, *args, **kwds)\u001b[0m\n\u001b[1;32m    887\u001b[0m \u001b[0;34m\u001b[0m\u001b[0m\n\u001b[1;32m    888\u001b[0m       \u001b[0;32mwith\u001b[0m \u001b[0mOptionalXlaContext\u001b[0m\u001b[0;34m(\u001b[0m\u001b[0mself\u001b[0m\u001b[0;34m.\u001b[0m\u001b[0m_jit_compile\u001b[0m\u001b[0;34m)\u001b[0m\u001b[0;34m:\u001b[0m\u001b[0;34m\u001b[0m\u001b[0;34m\u001b[0m\u001b[0m\n\u001b[0;32m--> 889\u001b[0;31m         \u001b[0mresult\u001b[0m \u001b[0;34m=\u001b[0m \u001b[0mself\u001b[0m\u001b[0;34m.\u001b[0m\u001b[0m_call\u001b[0m\u001b[0;34m(\u001b[0m\u001b[0;34m*\u001b[0m\u001b[0margs\u001b[0m\u001b[0;34m,\u001b[0m \u001b[0;34m**\u001b[0m\u001b[0mkwds\u001b[0m\u001b[0;34m)\u001b[0m\u001b[0;34m\u001b[0m\u001b[0;34m\u001b[0m\u001b[0m\n\u001b[0m\u001b[1;32m    890\u001b[0m \u001b[0;34m\u001b[0m\u001b[0m\n\u001b[1;32m    891\u001b[0m       \u001b[0mnew_tracing_count\u001b[0m \u001b[0;34m=\u001b[0m \u001b[0mself\u001b[0m\u001b[0;34m.\u001b[0m\u001b[0mexperimental_get_tracing_count\u001b[0m\u001b[0;34m(\u001b[0m\u001b[0;34m)\u001b[0m\u001b[0;34m\u001b[0m\u001b[0;34m\u001b[0m\u001b[0m\n",
      "\u001b[0;32m~/myenv/lib/python3.7/site-packages/tensorflow/python/eager/def_function.py\u001b[0m in \u001b[0;36m_call\u001b[0;34m(self, *args, **kwds)\u001b[0m\n\u001b[1;32m    948\u001b[0m         \u001b[0;31m# Lifting succeeded, so variables are initialized and we can run the\u001b[0m\u001b[0;34m\u001b[0m\u001b[0;34m\u001b[0m\u001b[0;34m\u001b[0m\u001b[0m\n\u001b[1;32m    949\u001b[0m         \u001b[0;31m# stateless function.\u001b[0m\u001b[0;34m\u001b[0m\u001b[0;34m\u001b[0m\u001b[0;34m\u001b[0m\u001b[0m\n\u001b[0;32m--> 950\u001b[0;31m         \u001b[0;32mreturn\u001b[0m \u001b[0mself\u001b[0m\u001b[0;34m.\u001b[0m\u001b[0m_stateless_fn\u001b[0m\u001b[0;34m(\u001b[0m\u001b[0;34m*\u001b[0m\u001b[0margs\u001b[0m\u001b[0;34m,\u001b[0m \u001b[0;34m**\u001b[0m\u001b[0mkwds\u001b[0m\u001b[0;34m)\u001b[0m\u001b[0;34m\u001b[0m\u001b[0;34m\u001b[0m\u001b[0m\n\u001b[0m\u001b[1;32m    951\u001b[0m     \u001b[0;32melse\u001b[0m\u001b[0;34m:\u001b[0m\u001b[0;34m\u001b[0m\u001b[0;34m\u001b[0m\u001b[0m\n\u001b[1;32m    952\u001b[0m       \u001b[0m_\u001b[0m\u001b[0;34m,\u001b[0m \u001b[0m_\u001b[0m\u001b[0;34m,\u001b[0m \u001b[0m_\u001b[0m\u001b[0;34m,\u001b[0m \u001b[0mfiltered_flat_args\u001b[0m \u001b[0;34m=\u001b[0m\u001b[0;31m \u001b[0m\u001b[0;31m\\\u001b[0m\u001b[0;34m\u001b[0m\u001b[0;34m\u001b[0m\u001b[0m\n",
      "\u001b[0;32m~/myenv/lib/python3.7/site-packages/tensorflow/python/eager/function.py\u001b[0m in \u001b[0;36m__call__\u001b[0;34m(self, *args, **kwargs)\u001b[0m\n\u001b[1;32m   3022\u001b[0m        filtered_flat_args) = self._maybe_define_function(args, kwargs)\n\u001b[1;32m   3023\u001b[0m     return graph_function._call_flat(\n\u001b[0;32m-> 3024\u001b[0;31m         filtered_flat_args, captured_inputs=graph_function.captured_inputs)  # pylint: disable=protected-access\n\u001b[0m\u001b[1;32m   3025\u001b[0m \u001b[0;34m\u001b[0m\u001b[0m\n\u001b[1;32m   3026\u001b[0m   \u001b[0;34m@\u001b[0m\u001b[0mproperty\u001b[0m\u001b[0;34m\u001b[0m\u001b[0;34m\u001b[0m\u001b[0m\n",
      "\u001b[0;32m~/myenv/lib/python3.7/site-packages/tensorflow/python/eager/function.py\u001b[0m in \u001b[0;36m_call_flat\u001b[0;34m(self, args, captured_inputs, cancellation_manager)\u001b[0m\n\u001b[1;32m   1959\u001b[0m       \u001b[0;31m# No tape is watching; skip to running the function.\u001b[0m\u001b[0;34m\u001b[0m\u001b[0;34m\u001b[0m\u001b[0;34m\u001b[0m\u001b[0m\n\u001b[1;32m   1960\u001b[0m       return self._build_call_outputs(self._inference_function.call(\n\u001b[0;32m-> 1961\u001b[0;31m           ctx, args, cancellation_manager=cancellation_manager))\n\u001b[0m\u001b[1;32m   1962\u001b[0m     forward_backward = self._select_forward_and_backward_functions(\n\u001b[1;32m   1963\u001b[0m         \u001b[0margs\u001b[0m\u001b[0;34m,\u001b[0m\u001b[0;34m\u001b[0m\u001b[0;34m\u001b[0m\u001b[0m\n",
      "\u001b[0;32m~/myenv/lib/python3.7/site-packages/tensorflow/python/eager/function.py\u001b[0m in \u001b[0;36mcall\u001b[0;34m(self, ctx, args, cancellation_manager)\u001b[0m\n\u001b[1;32m    594\u001b[0m               \u001b[0minputs\u001b[0m\u001b[0;34m=\u001b[0m\u001b[0margs\u001b[0m\u001b[0;34m,\u001b[0m\u001b[0;34m\u001b[0m\u001b[0;34m\u001b[0m\u001b[0m\n\u001b[1;32m    595\u001b[0m               \u001b[0mattrs\u001b[0m\u001b[0;34m=\u001b[0m\u001b[0mattrs\u001b[0m\u001b[0;34m,\u001b[0m\u001b[0;34m\u001b[0m\u001b[0;34m\u001b[0m\u001b[0m\n\u001b[0;32m--> 596\u001b[0;31m               ctx=ctx)\n\u001b[0m\u001b[1;32m    597\u001b[0m         \u001b[0;32melse\u001b[0m\u001b[0;34m:\u001b[0m\u001b[0;34m\u001b[0m\u001b[0;34m\u001b[0m\u001b[0m\n\u001b[1;32m    598\u001b[0m           outputs = execute.execute_with_cancellation(\n",
      "\u001b[0;32m~/myenv/lib/python3.7/site-packages/tensorflow/python/eager/execute.py\u001b[0m in \u001b[0;36mquick_execute\u001b[0;34m(op_name, num_outputs, inputs, attrs, ctx, name)\u001b[0m\n\u001b[1;32m     58\u001b[0m     \u001b[0mctx\u001b[0m\u001b[0;34m.\u001b[0m\u001b[0mensure_initialized\u001b[0m\u001b[0;34m(\u001b[0m\u001b[0;34m)\u001b[0m\u001b[0;34m\u001b[0m\u001b[0;34m\u001b[0m\u001b[0m\n\u001b[1;32m     59\u001b[0m     tensors = pywrap_tfe.TFE_Py_Execute(ctx._handle, device_name, op_name,\n\u001b[0;32m---> 60\u001b[0;31m                                         inputs, attrs, num_outputs)\n\u001b[0m\u001b[1;32m     61\u001b[0m   \u001b[0;32mexcept\u001b[0m \u001b[0mcore\u001b[0m\u001b[0;34m.\u001b[0m\u001b[0m_NotOkStatusException\u001b[0m \u001b[0;32mas\u001b[0m \u001b[0me\u001b[0m\u001b[0;34m:\u001b[0m\u001b[0;34m\u001b[0m\u001b[0;34m\u001b[0m\u001b[0m\n\u001b[1;32m     62\u001b[0m     \u001b[0;32mif\u001b[0m \u001b[0mname\u001b[0m \u001b[0;32mis\u001b[0m \u001b[0;32mnot\u001b[0m \u001b[0;32mNone\u001b[0m\u001b[0;34m:\u001b[0m\u001b[0;34m\u001b[0m\u001b[0;34m\u001b[0m\u001b[0m\n",
      "\u001b[0;31mInternalError\u001b[0m:  Blas xGEMM launch failed : a.shape=[1,8,1000], b.shape=[1,1000,128], m=8, n=128, k=1000\n\t [[node model/dense/MatMul (defined at var/tmp/ipykernel_22287/3358670577.py:6) ]] [Op:__inference_train_function_988]\n\nFunction call stack:\ntrain_function\n"
     ]
    }
   ],
   "source": [
    "# Train the model\n",
    "history = model.fit(X_train, \n",
    "                    {'category_output': y_train_category, 'emailtype_output': y_train_emailtype},\n",
    "                    validation_data=(X_test, {'category_output': y_test_category, 'emailtype_output': y_test_emailtype}),\n",
    "                    epochs=4,\n",
    "                    batch_size=8)\n"
   ]
  },
  {
   "cell_type": "code",
   "execution_count": null,
   "id": "371a8ec5-788b-41c7-800b-1429a7463830",
   "metadata": {},
   "outputs": [],
   "source": []
  }
 ],
 "metadata": {
  "environment": {
   "kernel": "myenv",
   "name": "tf2-gpu.2-8.m108",
   "type": "gcloud",
   "uri": "gcr.io/deeplearning-platform-release/tf2-gpu.2-8:m108"
  },
  "kernelspec": {
   "display_name": "cie-nlp-service",
   "language": "python",
   "name": "python3"
  },
  "language_info": {
   "codemirror_mode": {
    "name": "ipython",
    "version": 3
   },
   "file_extension": ".py",
   "mimetype": "text/x-python",
   "name": "python",
   "nbconvert_exporter": "python",
   "pygments_lexer": "ipython3",
   "version": "3.10.11"
  }
 },
 "nbformat": 4,
 "nbformat_minor": 5
}

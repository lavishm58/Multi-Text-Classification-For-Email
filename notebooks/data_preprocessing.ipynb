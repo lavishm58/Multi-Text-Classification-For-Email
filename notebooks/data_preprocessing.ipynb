{
 "cells": [
  {
   "cell_type": "code",
   "execution_count": 6,
   "id": "8237123a-bbd7-4741-9fac-44fc6a4ab8da",
   "metadata": {
    "tags": []
   },
   "outputs": [
    {
     "name": "stderr",
     "output_type": "stream",
     "text": [
      "[nltk_data] Downloading package stopwords to\n",
      "[nltk_data]     /home/jupyter/nltk_data...\n",
      "[nltk_data]   Unzipping corpora/stopwords.zip.\n",
      "[nltk_data] Downloading package wordnet to /home/jupyter/nltk_data...\n"
     ]
    },
    {
     "data": {
      "text/plain": [
       "True"
      ]
     },
     "execution_count": 6,
     "metadata": {},
     "output_type": "execute_result"
    }
   ],
   "source": [
    "import os \n",
    "os.environ[\"PROTOCOL_BUFFERS_PYTHON_IMPLEMENTATION\"] = \"python\"\n",
    "\n",
    "import pandas as pd\n",
    "from sklearn.model_selection import train_test_split\n",
    "from transformers import BertTokenizer, BertModel, BertPreTrainedModel, Trainer, TrainingArguments\n",
    "from transformers.modeling_outputs import SequenceClassifierOutput\n",
    "from datasets import Dataset, ClassLabel\n",
    "import torch\n",
    "import torch.nn as nn\n",
    "from sklearn.metrics import accuracy_score, f1_score\n",
    "\n",
    "import numpy as np\n",
    "import re\n",
    "import string\n",
    "import nltk\n",
    "from sklearn.feature_extraction.text import CountVectorizer, TfidfVectorizer\n",
    "from sklearn.preprocessing import LabelEncoder\n",
    "from nltk.corpus import stopwords\n",
    "from nltk.stem import WordNetLemmatizer\n",
    "\n",
    "nltk.download('stopwords')\n",
    "nltk.download('wordnet')"
   ]
  },
  {
   "cell_type": "code",
   "execution_count": 2,
   "id": "e427fcb4-0575-42ba-9de5-23ff4b4f1ca8",
   "metadata": {
    "tags": []
   },
   "outputs": [
    {
     "data": {
      "text/html": [
       "<div>\n",
       "<style scoped>\n",
       "    .dataframe tbody tr th:only-of-type {\n",
       "        vertical-align: middle;\n",
       "    }\n",
       "\n",
       "    .dataframe tbody tr th {\n",
       "        vertical-align: top;\n",
       "    }\n",
       "\n",
       "    .dataframe thead th {\n",
       "        text-align: right;\n",
       "    }\n",
       "</style>\n",
       "<table border=\"1\" class=\"dataframe\">\n",
       "  <thead>\n",
       "    <tr style=\"text-align: right;\">\n",
       "      <th></th>\n",
       "      <th>Text</th>\n",
       "      <th>Category</th>\n",
       "      <th>EmailType</th>\n",
       "    </tr>\n",
       "  </thead>\n",
       "  <tbody>\n",
       "    <tr>\n",
       "      <th>0</th>\n",
       "      <td>Hi *******, Your payment to Uber India was App...</td>\n",
       "      <td>category_3</td>\n",
       "      <td>email_type_93</td>\n",
       "    </tr>\n",
       "    <tr>\n",
       "      <th>1</th>\n",
       "      <td>Your Zomato Online Ordering receipt Refund Pro...</td>\n",
       "      <td>category_3</td>\n",
       "      <td>email_type_84</td>\n",
       "    </tr>\n",
       "    <tr>\n",
       "      <th>2</th>\n",
       "      <td>Electricity Bill Payment Successful ‚Çπ 979 Fo...</td>\n",
       "      <td>category_3</td>\n",
       "      <td>email_type_3</td>\n",
       "    </tr>\n",
       "    <tr>\n",
       "      <th>3</th>\n",
       "      <td>Payment requested by FINCFRIENDS PVT. LTD. Rec...</td>\n",
       "      <td>category_3</td>\n",
       "      <td>email_type_92</td>\n",
       "    </tr>\n",
       "    <tr>\n",
       "      <th>4</th>\n",
       "      <td>Greetings from Swiggy Your order was delivered...</td>\n",
       "      <td>category_3</td>\n",
       "      <td>email_type_86</td>\n",
       "    </tr>\n",
       "  </tbody>\n",
       "</table>\n",
       "</div>"
      ],
      "text/plain": [
       "                                                Text    Category  \\\n",
       "0  Hi *******, Your payment to Uber India was App...  category_3   \n",
       "1  Your Zomato Online Ordering receipt Refund Pro...  category_3   \n",
       "2  Electricity Bill Payment Successful ‚Çπ 979 Fo...  category_3   \n",
       "3  Payment requested by FINCFRIENDS PVT. LTD. Rec...  category_3   \n",
       "4  Greetings from Swiggy Your order was delivered...  category_3   \n",
       "\n",
       "       EmailType  \n",
       "0  email_type_93  \n",
       "1  email_type_84  \n",
       "2   email_type_3  \n",
       "3  email_type_92  \n",
       "4  email_type_86  "
      ]
     },
     "execution_count": 2,
     "metadata": {},
     "output_type": "execute_result"
    }
   ],
   "source": [
    "df = pd.read_excel('Training_data.xlsx')\n",
    "df.head()"
   ]
  },
  {
   "cell_type": "code",
   "execution_count": 3,
   "id": "6cf91f2f-a30d-4b9f-9c75-32ce8b0426df",
   "metadata": {
    "tags": []
   },
   "outputs": [
    {
     "data": {
      "text/plain": [
       "(32702, 3)"
      ]
     },
     "execution_count": 3,
     "metadata": {},
     "output_type": "execute_result"
    }
   ],
   "source": [
    "df = df.dropna(axis=0)\n",
    "df. drop_duplicates(subset=['Text'], inplace=True)\n",
    "df.shape"
   ]
  },
  {
   "cell_type": "code",
   "execution_count": 4,
   "id": "47fdb226-bebd-44ab-97ed-692f62caa79e",
   "metadata": {
    "tags": []
   },
   "outputs": [
    {
     "data": {
      "text/html": [
       "<div>\n",
       "<style scoped>\n",
       "    .dataframe tbody tr th:only-of-type {\n",
       "        vertical-align: middle;\n",
       "    }\n",
       "\n",
       "    .dataframe tbody tr th {\n",
       "        vertical-align: top;\n",
       "    }\n",
       "\n",
       "    .dataframe thead th {\n",
       "        text-align: right;\n",
       "    }\n",
       "</style>\n",
       "<table border=\"1\" class=\"dataframe\">\n",
       "  <thead>\n",
       "    <tr style=\"text-align: right;\">\n",
       "      <th></th>\n",
       "      <th>Text</th>\n",
       "      <th>Category</th>\n",
       "      <th>EmailType</th>\n",
       "    </tr>\n",
       "  </thead>\n",
       "  <tbody>\n",
       "    <tr>\n",
       "      <th>count</th>\n",
       "      <td>32702</td>\n",
       "      <td>32702</td>\n",
       "      <td>32702</td>\n",
       "    </tr>\n",
       "    <tr>\n",
       "      <th>unique</th>\n",
       "      <td>32702</td>\n",
       "      <td>3</td>\n",
       "      <td>143</td>\n",
       "    </tr>\n",
       "    <tr>\n",
       "      <th>top</th>\n",
       "      <td>Hi *******, Your payment to Uber India was App...</td>\n",
       "      <td>category_3</td>\n",
       "      <td>email_type_138</td>\n",
       "    </tr>\n",
       "    <tr>\n",
       "      <th>freq</th>\n",
       "      <td>1</td>\n",
       "      <td>28569</td>\n",
       "      <td>11293</td>\n",
       "    </tr>\n",
       "  </tbody>\n",
       "</table>\n",
       "</div>"
      ],
      "text/plain": [
       "                                                     Text    Category  \\\n",
       "count                                               32702       32702   \n",
       "unique                                              32702           3   \n",
       "top     Hi *******, Your payment to Uber India was App...  category_3   \n",
       "freq                                                    1       28569   \n",
       "\n",
       "             EmailType  \n",
       "count            32702  \n",
       "unique             143  \n",
       "top     email_type_138  \n",
       "freq             11293  "
      ]
     },
     "execution_count": 4,
     "metadata": {},
     "output_type": "execute_result"
    }
   ],
   "source": [
    "df.describe(include='all')"
   ]
  },
  {
   "cell_type": "code",
   "execution_count": 7,
   "id": "c858c3f1-0f5f-4480-bbd4-360ba5e51881",
   "metadata": {
    "tags": []
   },
   "outputs": [],
   "source": [
    "def clean_text(text):\n",
    "    text = text.lower()  # Lowercase text\n",
    "    text = re.sub(r'https?://\\S+|www\\.\\S+', '', text)  # Remove URLs\n",
    "    text = re.sub(r'<.*?>+', '', text)  # Remove HTML tags\n",
    "    text = re.sub(f'[{re.escape(string.punctuation)}]', '', text)  # Remove punctuation\n",
    "    return text\n",
    "\n",
    "df['clean_text'] = df['Text'].apply(clean_text)\n"
   ]
  },
  {
   "cell_type": "code",
   "execution_count": 8,
   "id": "f8265089-de9f-482e-bc44-47eb0e6275b3",
   "metadata": {
    "tags": []
   },
   "outputs": [
    {
     "name": "stderr",
     "output_type": "stream",
     "text": [
      "[nltk_data] Downloading package punkt to /home/jupyter/nltk_data...\n",
      "[nltk_data]   Unzipping tokenizers/punkt.zip.\n"
     ]
    }
   ],
   "source": [
    "from nltk.tokenize import word_tokenize\n",
    "nltk.download('punkt')\n",
    "\n",
    "df['tokens'] = df['clean_text'].apply(word_tokenize)\n"
   ]
  },
  {
   "cell_type": "code",
   "execution_count": 9,
   "id": "f9004d1b-e590-4a9e-b9eb-56b13221fa5b",
   "metadata": {
    "tags": []
   },
   "outputs": [],
   "source": [
    "stop_words = set(stopwords.words('english'))\n",
    "df['tokens'] = df['tokens'].apply(lambda x: [word for word in x if word not in stop_words])\n"
   ]
  },
  {
   "cell_type": "code",
   "execution_count": 10,
   "id": "83e4c49b-4d96-4fc9-a7a2-cd0c152759e6",
   "metadata": {
    "tags": []
   },
   "outputs": [
    {
     "data": {
      "text/html": [
       "<div>\n",
       "<style scoped>\n",
       "    .dataframe tbody tr th:only-of-type {\n",
       "        vertical-align: middle;\n",
       "    }\n",
       "\n",
       "    .dataframe tbody tr th {\n",
       "        vertical-align: top;\n",
       "    }\n",
       "\n",
       "    .dataframe thead th {\n",
       "        text-align: right;\n",
       "    }\n",
       "</style>\n",
       "<table border=\"1\" class=\"dataframe\">\n",
       "  <thead>\n",
       "    <tr style=\"text-align: right;\">\n",
       "      <th></th>\n",
       "      <th>Text</th>\n",
       "      <th>Category</th>\n",
       "      <th>EmailType</th>\n",
       "      <th>clean_text</th>\n",
       "      <th>tokens</th>\n",
       "    </tr>\n",
       "  </thead>\n",
       "  <tbody>\n",
       "    <tr>\n",
       "      <th>0</th>\n",
       "      <td>Hi *******, Your payment to Uber India was App...</td>\n",
       "      <td>category_3</td>\n",
       "      <td>email_type_93</td>\n",
       "      <td>hi  your payment to uber india was approved pa...</td>\n",
       "      <td>[hi, payment, uber, india, approved, paid, amo...</td>\n",
       "    </tr>\n",
       "    <tr>\n",
       "      <th>1</th>\n",
       "      <td>Your Zomato Online Ordering receipt Refund Pro...</td>\n",
       "      <td>category_3</td>\n",
       "      <td>email_type_84</td>\n",
       "      <td>your zomato online ordering receipt refund pro...</td>\n",
       "      <td>[zomato, online, ordering, receipt, refund, pr...</td>\n",
       "    </tr>\n",
       "    <tr>\n",
       "      <th>2</th>\n",
       "      <td>Electricity Bill Payment Successful ‚Çπ 979 Fo...</td>\n",
       "      <td>category_3</td>\n",
       "      <td>email_type_3</td>\n",
       "      <td>electricity bill payment successful ‚çπ 979 fo...</td>\n",
       "      <td>[electricity, bill, payment, successful, ‚çπ, ...</td>\n",
       "    </tr>\n",
       "    <tr>\n",
       "      <th>3</th>\n",
       "      <td>Payment requested by FINCFRIENDS PVT. LTD. Rec...</td>\n",
       "      <td>category_3</td>\n",
       "      <td>email_type_92</td>\n",
       "      <td>payment requested by fincfriends pvt ltd recei...</td>\n",
       "      <td>[payment, requested, fincfriends, pvt, ltd, re...</td>\n",
       "    </tr>\n",
       "    <tr>\n",
       "      <th>4</th>\n",
       "      <td>Greetings from Swiggy Your order was delivered...</td>\n",
       "      <td>category_3</td>\n",
       "      <td>email_type_86</td>\n",
       "      <td>greetings from swiggy your order was delivered...</td>\n",
       "      <td>[greetings, swiggy, order, delivered, 29, minu...</td>\n",
       "    </tr>\n",
       "  </tbody>\n",
       "</table>\n",
       "</div>"
      ],
      "text/plain": [
       "                                                Text    Category  \\\n",
       "0  Hi *******, Your payment to Uber India was App...  category_3   \n",
       "1  Your Zomato Online Ordering receipt Refund Pro...  category_3   \n",
       "2  Electricity Bill Payment Successful ‚Çπ 979 Fo...  category_3   \n",
       "3  Payment requested by FINCFRIENDS PVT. LTD. Rec...  category_3   \n",
       "4  Greetings from Swiggy Your order was delivered...  category_3   \n",
       "\n",
       "       EmailType                                         clean_text  \\\n",
       "0  email_type_93  hi  your payment to uber india was approved pa...   \n",
       "1  email_type_84  your zomato online ordering receipt refund pro...   \n",
       "2   email_type_3  electricity bill payment successful ‚çπ 979 fo...   \n",
       "3  email_type_92  payment requested by fincfriends pvt ltd recei...   \n",
       "4  email_type_86  greetings from swiggy your order was delivered...   \n",
       "\n",
       "                                              tokens  \n",
       "0  [hi, payment, uber, india, approved, paid, amo...  \n",
       "1  [zomato, online, ordering, receipt, refund, pr...  \n",
       "2  [electricity, bill, payment, successful, ‚çπ, ...  \n",
       "3  [payment, requested, fincfriends, pvt, ltd, re...  \n",
       "4  [greetings, swiggy, order, delivered, 29, minu...  "
      ]
     },
     "execution_count": 10,
     "metadata": {},
     "output_type": "execute_result"
    }
   ],
   "source": [
    "df.head()"
   ]
  },
  {
   "cell_type": "code",
   "execution_count": 11,
   "id": "a3d5c2d3-9411-4598-a62e-acab13d6820a",
   "metadata": {
    "tags": []
   },
   "outputs": [],
   "source": [
    "lemmatizer = WordNetLemmatizer()\n",
    "\n",
    "df['tokens'] = df['tokens'].apply(lambda x: [lemmatizer.lemmatize(word) for word in x])\n",
    "df['clean_text'] = df['tokens'].apply(lambda x: ' '.join(x))  # Rejoin tokens to form the text\n"
   ]
  },
  {
   "cell_type": "code",
   "execution_count": 12,
   "id": "b9317c21-8111-4b53-8355-437e83c619ad",
   "metadata": {
    "tags": []
   },
   "outputs": [],
   "source": [
    "df.to_csv('Training_data_preprocessed.csv', index=False)"
   ]
  },
  {
   "cell_type": "code",
   "execution_count": null,
   "id": "809e0607-b9e3-4607-90e5-9ebee2419d1e",
   "metadata": {},
   "outputs": [],
   "source": []
  }
 ],
 "metadata": {
  "environment": {
   "kernel": "myenv",
   "name": "tf2-gpu.2-8.m108",
   "type": "gcloud",
   "uri": "gcr.io/deeplearning-platform-release/tf2-gpu.2-8:m108"
  },
  "kernelspec": {
   "display_name": "myenv",
   "language": "python",
   "name": "myenv"
  },
  "language_info": {
   "codemirror_mode": {
    "name": "ipython",
    "version": 3
   },
   "file_extension": ".py",
   "mimetype": "text/x-python",
   "name": "python",
   "nbconvert_exporter": "python",
   "pygments_lexer": "ipython3",
   "version": "3.7.12"
  }
 },
 "nbformat": 4,
 "nbformat_minor": 5
}
